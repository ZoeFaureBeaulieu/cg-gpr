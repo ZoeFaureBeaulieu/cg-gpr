{
 "cells": [
  {
   "cell_type": "code",
   "execution_count": 1,
   "metadata": {},
   "outputs": [],
   "source": [
    "%load_ext autoreload\n",
    "%autoreload 2\n",
    "import sys\n",
    "sys.path.append('../')\n",
    "import numpy as np\n",
    "from scripts.data import *\n",
    "import matplotlib.pyplot as plt\n",
    "import seaborn as sns\n",
    "from sklearn.preprocessing import StandardScaler\n",
    "plt.style.use('plot.mplstyle')\n",
    "%config InlineBackend.figure_format = 'retina'"
   ]
  },
  {
   "cell_type": "code",
   "execution_count": 3,
   "metadata": {},
   "outputs": [],
   "source": [
    "complete_cg_df, complete_a_df = get_complete_dataframes(energy_cutoff=1,im_linker='H_new',curated=True)"
   ]
  },
  {
   "cell_type": "code",
   "execution_count": 11,
   "metadata": {},
   "outputs": [
    {
     "data": {
      "text/plain": [
       "(11625, 11625)"
      ]
     },
     "execution_count": 11,
     "metadata": {},
     "output_type": "execute_result"
    }
   ],
   "source": [
    "list_cg_structs = list(complete_cg_df.values.flatten())\n",
    "list_a_structs = list(complete_a_df.values.flatten())\n",
    "len(list_cg_structs), len(list_a_structs)"
   ]
  },
  {
   "cell_type": "code",
   "execution_count": 15,
   "metadata": {},
   "outputs": [],
   "source": [
    "cg_df, _ = get_complete_dataframes(energy_cutoff=1, im_linker='H_new', curated=True)"
   ]
  },
  {
   "cell_type": "code",
   "execution_count": 52,
   "metadata": {},
   "outputs": [],
   "source": [
    "ls_structures = cg_df.values.reshape(-1)  # convert to 1D array of atoms objects\n",
    "ls_structures = ls_structures[~pd.isnull(ls_structures)]  # remove nan values\n",
    "\n",
    "zni_structures = [s for s in ls_structures if (s.info[\"topology\"] == \"zni\" and s.info[\"RefCode\"] == \"IMIDZB\")]\n",
    "ref_struct = [s for s in zni_structures if s.info[\"batch\"] == 1][0]\n",
    "\n",
    "# # sort the structures by total energy and get the lowest energy structure\n",
    "# sorted_structures = sorted(\n",
    "#     zni_structures, key=lambda x: (np.nansum(x.arrays[\"e_local_mofff\"]))\n",
    "# )\n",
    "\n",
    "# ref_struct = sorted_structures[0]"
   ]
  },
  {
   "cell_type": "code",
   "execution_count": 54,
   "metadata": {},
   "outputs": [
    {
     "data": {
      "text/plain": [
       "{'energy_mofff': -20.825029224256234,\n",
       " 'td_density': 4.6358891335960335,\n",
       " 'RefCode': 'IMIDZB',\n",
       " 'topology': 'zni',\n",
       " 'space_group': 'I 41 c d',\n",
       " 'formula': 'C12 H12 N8 Zn2',\n",
       " 'Z': 1,\n",
       " 'template': 'H',\n",
       " 'supercells_built': 0,\n",
       " 'date': '2023-06-21',\n",
       " 'id': 'AB2_MOF_H_234',\n",
       " 'scheme': 'd-rlx-cg-d',\n",
       " 'batch': 1}"
      ]
     },
     "execution_count": 54,
     "metadata": {},
     "output_type": "execute_result"
    }
   ],
   "source": [
    "ref_struct.info"
   ]
  },
  {
   "cell_type": "code",
   "execution_count": 14,
   "metadata": {},
   "outputs": [
    {
     "name": "stdout",
     "output_type": "stream",
     "text": [
      "Atoms(symbols='O64Si32', pbc=True, cell=[12.78964, 23.23161, 23.23161], Sg=..., Sk=..., ZnN=..., e_local_mofff=..., energies_mofff=..., forces_mofff=..., theta=...)\n",
      "Atoms(symbols='O64Si32', pbc=True, cell=[12.78964, 23.23161, 23.23161], Sg=..., Sk=..., ZnN=..., e_local_mofff=..., energies_mofff=..., forces_mofff=..., theta=...)\n",
      "Atoms(symbols='O64Si32', pbc=True, cell=[[12.75915105, 0.0, 0.0], [-0.0462436, 23.18475013, 0.0], [-0.02035755, 0.08295188, 23.30445317]], Sg=..., Sk=..., ZnN=..., e_local_mofff=..., energies_mofff=..., forces_mofff=..., theta=...)\n",
      "Atoms(symbols='O64Si32', pbc=True, cell=[[12.75915105, 0.0, 0.0], [-0.0462436, 23.18475013, 0.0], [-0.02035755, 0.08295188, 23.30445317]], Sg=..., Sk=..., ZnN=..., e_local_mofff=..., energies_mofff=..., forces_mofff=..., theta=...)\n",
      "Atoms(symbols='O64Si32', pbc=True, cell=[[12.75915105, 0.0, 0.0], [-0.0462436, 23.18475013, 0.0], [-0.02035755, 0.08295188, 23.30445317]], Sg=..., Sk=..., ZnN=..., e_local_mofff=..., energies_mofff=..., forces_mofff=..., theta=...)\n",
      "Atoms(symbols='O64Si32', pbc=True, cell=[[12.75915105, 0.0, 0.0], [-0.0462436, 23.18475013, 0.0], [-0.02035755, 0.08295188, 23.30445317]], Sg=..., Sk=..., ZnN=..., e_local_mofff=..., energies_mofff=..., forces_mofff=..., theta=...)\n",
      "Atoms(symbols='O64Si32', pbc=True, cell=[[12.4847505, 0.0, 0.0], [-0.45400258, 22.75894464, 0.0], [-0.20931201, 0.84913595, 23.9456419]], Sg=..., Sk=..., ZnN=..., e_local_mofff=..., energies_mofff=..., forces_mofff=..., theta=...)\n",
      "Atoms(symbols='O64Si32', pbc=True, cell=[[12.4847505, 0.0, 0.0], [-0.45400258, 22.75894464, 0.0], [-0.20931201, 0.84913595, 23.9456419]], Sg=..., Sk=..., ZnN=..., e_local_mofff=..., energies_mofff=..., forces_mofff=..., theta=...)\n",
      "Atoms(symbols='O64Si32', pbc=True, cell=[[12.73664602, 0.0, 0.0], [0.01352176, 23.1704629, 0.0], [0.08253167, -0.01675539, 23.30144873]], Sg=..., Sk=..., ZnN=..., e_local_mofff=..., energies_mofff=..., forces_mofff=..., theta=...)\n",
      "Atoms(symbols='O64Si32', pbc=True, cell=[[12.73664602, 0.0, 0.0], [0.01352176, 23.1704629, 0.0], [0.08253167, -0.01675539, 23.30144873]], Sg=..., Sk=..., ZnN=..., e_local_mofff=..., energies_mofff=..., forces_mofff=..., theta=...)\n",
      "Atoms(symbols='O64Si32', pbc=True, cell=[[12.73664602, 0.0, 0.0], [0.01352176, 23.1704629, 0.0], [0.08253167, -0.01675539, 23.30144873]], Sg=..., Sk=..., ZnN=..., e_local_mofff=..., energies_mofff=..., forces_mofff=..., theta=...)\n",
      "Atoms(symbols='O64Si32', pbc=True, cell=[[12.73664602, 0.0, 0.0], [0.01352176, 23.1704629, 0.0], [0.08253167, -0.01675539, 23.30144873]], Sg=..., Sk=..., ZnN=..., e_local_mofff=..., energies_mofff=..., forces_mofff=..., theta=...)\n",
      "Atoms(symbols='O64Si32', pbc=True, cell=[[12.2597002, 0.0, 0.0], [0.13200553, 22.61979325, 0.0], [0.84745225, -0.17653581, 23.91585804]], Sg=..., Sk=..., ZnN=..., e_local_mofff=..., energies_mofff=..., forces_mofff=..., theta=...)\n",
      "Atoms(symbols='O64Si32', pbc=True, cell=[[12.2597002, 0.0, 0.0], [0.13200553, 22.61979325, 0.0], [0.84745225, -0.17653581, 23.91585804]], Sg=..., Sk=..., ZnN=..., e_local_mofff=..., energies_mofff=..., forces_mofff=..., theta=...)\n",
      "Atoms(symbols='O64Si32', pbc=True, cell=[[12.84630528, 0.0, 0.0], [0.02504321, 23.23422808, 0.0], [-0.02186833, 0.08540694, 23.34208259]], Sg=..., Sk=..., ZnN=..., e_local_mofff=..., energies_mofff=..., forces_mofff=..., theta=...)\n",
      "Atoms(symbols='O64Si32', pbc=True, cell=[[12.84630528, 0.0, 0.0], [0.02504321, 23.23422808, 0.0], [-0.02186833, 0.08540694, 23.34208259]], Sg=..., Sk=..., ZnN=..., e_local_mofff=..., energies_mofff=..., forces_mofff=..., theta=...)\n",
      "Atoms(symbols='O64Si32', pbc=True, cell=[[12.84630528, 0.0, 0.0], [0.02504321, 23.23422808, 0.0], [-0.02186833, 0.08540694, 23.34208259]], Sg=..., Sk=..., ZnN=..., e_local_mofff=..., energies_mofff=..., forces_mofff=..., theta=...)\n",
      "Atoms(symbols='O64Si32', pbc=True, cell=[[12.84630528, 0.0, 0.0], [0.02504321, 23.23422808, 0.0], [-0.02186833, 0.08540694, 23.34208259]], Sg=..., Sk=..., ZnN=..., e_local_mofff=..., energies_mofff=..., forces_mofff=..., theta=...)\n",
      "Atoms(symbols='O64Si32', pbc=True, cell=[[13.35629281, 0.0, 0.0], [0.25068253, 23.25657472, 0.0], [-0.22800878, 0.89256959, 24.32055951]], Sg=..., Sk=..., ZnN=..., e_local_mofff=..., energies_mofff=..., forces_mofff=..., theta=...)\n",
      "Atoms(symbols='O64Si32', pbc=True, cell=[[13.35629281, 0.0, 0.0], [0.25068253, 23.25657472, 0.0], [-0.22800878, 0.89256959, 24.32055951]], Sg=..., Sk=..., ZnN=..., e_local_mofff=..., energies_mofff=..., forces_mofff=..., theta=...)\n",
      "Atoms(symbols='O64Si32', pbc=True, cell=[[12.82864878, 0.0, 0.0], [0.02371791, 23.30313753, 0.0], [0.09044706, 0.04333995, 23.23495391]], Sg=..., Sk=..., ZnN=..., e_local_mofff=..., energies_mofff=..., forces_mofff=..., theta=...)\n",
      "Atoms(symbols='O64Si32', pbc=True, cell=[[12.82864878, 0.0, 0.0], [0.02371791, 23.30313753, 0.0], [0.09044706, 0.04333995, 23.23495391]], Sg=..., Sk=..., ZnN=..., e_local_mofff=..., energies_mofff=..., forces_mofff=..., theta=...)\n",
      "Atoms(symbols='O64Si32', pbc=True, cell=[[12.82864878, 0.0, 0.0], [0.02371791, 23.30313753, 0.0], [0.09044706, 0.04333995, 23.23495391]], Sg=..., Sk=..., ZnN=..., e_local_mofff=..., energies_mofff=..., forces_mofff=..., theta=...)\n",
      "Atoms(symbols='O64Si32', pbc=True, cell=[[12.82864878, 0.0, 0.0], [0.02371791, 23.30313753, 0.0], [0.09044706, 0.04333995, 23.23495391]], Sg=..., Sk=..., ZnN=..., e_local_mofff=..., energies_mofff=..., forces_mofff=..., theta=...)\n",
      "Atoms(symbols='O64Si32', pbc=True, cell=[[13.17972776, 0.0, 0.0], [0.24372806, 23.94576569, 0.0], [0.90549154, 0.42569984, 23.24568993]], Sg=..., Sk=..., ZnN=..., e_local_mofff=..., energies_mofff=..., forces_mofff=..., theta=...)\n",
      "Atoms(symbols='O64Si32', pbc=True, cell=[[13.17972776, 0.0, 0.0], [0.24372806, 23.94576569, 0.0], [0.90549154, 0.42569984, 23.24568993]], Sg=..., Sk=..., ZnN=..., e_local_mofff=..., energies_mofff=..., forces_mofff=..., theta=...)\n"
     ]
    }
   ],
   "source": [
    "for s in list_cg_structs:\n",
    "    if not isinstance(s, Atoms):\n",
    "        continue\n",
    "    elif s.info['topology'] == 'zni':\n",
    "        print(s)"
   ]
  },
  {
   "cell_type": "code",
   "execution_count": 7,
   "metadata": {},
   "outputs": [
    {
     "ename": "AttributeError",
     "evalue": "'float' object has no attribute 'info'",
     "output_type": "error",
     "traceback": [
      "\u001b[0;31m---------------------------------------------------------------------------\u001b[0m",
      "\u001b[0;31mAttributeError\u001b[0m                            Traceback (most recent call last)",
      "Cell \u001b[0;32mIn[7], line 3\u001b[0m\n\u001b[1;32m      1\u001b[0m i \u001b[39m=\u001b[39m \u001b[39m0\u001b[39m\n\u001b[1;32m      2\u001b[0m \u001b[39mfor\u001b[39;00m s \u001b[39min\u001b[39;00m list_a_structs:\n\u001b[0;32m----> 3\u001b[0m     \u001b[39mif\u001b[39;00m s\u001b[39m.\u001b[39;49minfo[\u001b[39m'\u001b[39m\u001b[39mreject_bond\u001b[39m\u001b[39m'\u001b[39m] \u001b[39m==\u001b[39m \u001b[39mTrue\u001b[39;00m:\n\u001b[1;32m      4\u001b[0m         i \u001b[39m+\u001b[39m\u001b[39m=\u001b[39m \u001b[39m1\u001b[39m\n\u001b[1;32m      6\u001b[0m \u001b[39mprint\u001b[39m(i)\n",
      "\u001b[0;31mAttributeError\u001b[0m: 'float' object has no attribute 'info'"
     ]
    }
   ],
   "source": [
    "i = 0\n",
    "for s in list_a_structs:\n",
    "    if s.info['reject_bond'] == True:\n",
    "        i += 1\n",
    "        \n",
    "print(i)\n"
   ]
  },
  {
   "cell_type": "code",
   "execution_count": 42,
   "metadata": {},
   "outputs": [],
   "source": [
    "cutoffs_cg_df, cutoffs_a_df = get_complete_dataframes(energy_cutoff=None,im_linker='CH3',curated=True)"
   ]
  },
  {
   "cell_type": "code",
   "execution_count": 43,
   "metadata": {},
   "outputs": [
    {
     "data": {
      "text/plain": [
       "(11675, 11675)"
      ]
     },
     "execution_count": 43,
     "metadata": {},
     "output_type": "execute_result"
    }
   ],
   "source": [
    "list_cutoffs_cg_structs = list(cutoffs_cg_df.values.flatten())\n",
    "list_cutoffs_a_structs = list(cutoffs_a_df.values.flatten())\n",
    "len(list_cutoffs_cg_structs), len(list_cutoffs_a_structs)"
   ]
  },
  {
   "cell_type": "code",
   "execution_count": 44,
   "metadata": {},
   "outputs": [
    {
     "name": "stdout",
     "output_type": "stream",
     "text": [
      "7754\n"
     ]
    }
   ],
   "source": [
    "i = 0\n",
    "for s in list_cutoffs_cg_structs:\n",
    "    if not isinstance(s, Atoms):\n",
    "        i += 1\n",
    "        \n",
    "print(i)"
   ]
  },
  {
   "cell_type": "code",
   "execution_count": null,
   "metadata": {},
   "outputs": [],
   "source": []
  }
 ],
 "metadata": {
  "kernelspec": {
   "display_name": "graphs",
   "language": "python",
   "name": "python3"
  },
  "language_info": {
   "codemirror_mode": {
    "name": "ipython",
    "version": 3
   },
   "file_extension": ".py",
   "mimetype": "text/x-python",
   "name": "python",
   "nbconvert_exporter": "python",
   "pygments_lexer": "ipython3",
   "version": "3.10.9"
  },
  "orig_nbformat": 4
 },
 "nbformat": 4,
 "nbformat_minor": 2
}
