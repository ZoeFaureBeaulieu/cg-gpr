{
 "cells": [
  {
   "cell_type": "code",
   "execution_count": 2,
   "metadata": {},
   "outputs": [],
   "source": [
    "%load_ext autoreload\n",
    "%autoreload 2\n",
    "import sys\n",
    "sys.path.append('../')\n",
    "import matplotlib.pyplot as plt\n",
    "plt.style.use('plot.mplstyle')\n",
    "from scripts.data import *\n",
    "from scripts.plotting import get_gpr_data,set_axes_labels, set_axes_limits"
   ]
  },
  {
   "cell_type": "code",
   "execution_count": 3,
   "metadata": {},
   "outputs": [],
   "source": [
    "def get_r_squared(y_true, y_pred):\n",
    "    y_mean = np.mean(y_true)\n",
    "    ss_tot = np.sum((y_true - y_mean)**2)\n",
    "    ss_res = np.sum((y_true - y_pred)**2)\n",
    "    return 1 - ss_res / ss_tot"
   ]
  },
  {
   "cell_type": "code",
   "execution_count": 4,
   "metadata": {},
   "outputs": [
    {
     "name": "stdout",
     "output_type": "stream",
     "text": [
      "atomistic R^2: 0.943\n",
      "atomistic RMSE: 0.049\n",
      "cg R^2: 0.899\n",
      "cg RMSE: 0.066\n"
     ]
    }
   ],
   "source": [
    "size = 4\n",
    "fig, axs = plt.subplots(ncols=3,figsize=(4*size,size*0.9))\n",
    "struct_types = ['atomistic','cg','A_cg']\n",
    "colour = '#AD1656'\n",
    "# hypers_type = 'atomistic'\n",
    "\n",
    "for s, ax in zip(struct_types,axs):\n",
    "    test_preds, test_labels, rmse = get_gpr_data(s,hypers_type=s,numb_train=32000,linker_type='H_new',energy_type='local_energies')\n",
    "    r_square = get_r_squared(test_labels,test_preds)\n",
    "    print(f'{s} R^2: {r_square:.3f}')\n",
    "    \n",
    "    set_axes_labels(ax,'MOF-FF energies (eV)','GPR energies (eV)')\n",
    "    set_axes_limits(ax,-0.5,2.25,-0.5,2.25)\n",
    "    ax.set_xticks([-0.5,0,0.5,1,1.5,2])\n",
    "\n",
    "    ax.scatter(test_labels,test_preds, c=colour,linewidths=0, s= 1,rasterized=True)\n",
    "    \n",
    "    ax.axline((0,0),(1,1),color='k',zorder=1,linewidth=0.5,linestyle='--')\n",
    "    print(f'{s} RMSE: {rmse:.3f}')\n",
    "\n",
    "\n",
    "plt.subplots_adjust(wspace=0.4)\n",
    "# plt.savefig(f'../figures/new_figures/{hypers_type}hypers_gpr_plot.pdf',bbox_inches='tight')"
   ]
  },
  {
   "cell_type": "code",
   "execution_count": null,
   "metadata": {},
   "outputs": [],
   "source": []
  }
 ],
 "metadata": {
  "kernelspec": {
   "display_name": "graphs",
   "language": "python",
   "name": "python3"
  },
  "language_info": {
   "codemirror_mode": {
    "name": "ipython",
    "version": 3
   },
   "file_extension": ".py",
   "mimetype": "text/x-python",
   "name": "python",
   "nbconvert_exporter": "python",
   "pygments_lexer": "ipython3",
   "version": "3.10.9"
  },
  "orig_nbformat": 4,
  "vscode": {
   "interpreter": {
    "hash": "c296f7da449f2cc4252a3bb70b4d4f567944348b82d7103e42f1a55e7f64c354"
   }
  }
 },
 "nbformat": 4,
 "nbformat_minor": 2
}
