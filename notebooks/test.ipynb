{
 "cells": [
  {
   "cell_type": "code",
   "execution_count": 1,
   "metadata": {},
   "outputs": [],
   "source": [
    "%load_ext autoreload\n",
    "%autoreload 2\n",
    "import numpy as np"
   ]
  },
  {
   "cell_type": "code",
   "execution_count": 4,
   "metadata": {},
   "outputs": [],
   "source": [
    "old = np.load(\"../results/gpr/local_energies/atomistic_hypers/gpr_atomistic_ntrain32000.npy\",allow_pickle=True)\n",
    "new = np.load(\"../results/new_gpr/gpr_atomistic_local_energies_atomistic_ntrain32000_H_new.npy\",allow_pickle=True)"
   ]
  },
  {
   "cell_type": "code",
   "execution_count": 5,
   "metadata": {},
   "outputs": [
    {
     "data": {
      "text/plain": [
       "array({'av_test_rmse': 0.04208075798103285, 'test_predictions': array([[ 0.03283789],\n",
       "       [-0.00273851],\n",
       "       [-0.05988653],\n",
       "       ...,\n",
       "       [ 0.08709712],\n",
       "       [ 0.14329703],\n",
       "       [ 0.09379856]]), 'av_train_rmse': 0.0071833070882311835, 'train_predictions': array([[0.71349494],\n",
       "       [0.61194035],\n",
       "       [0.4230338 ],\n",
       "       ...,\n",
       "       [0.47713747],\n",
       "       [0.14101702],\n",
       "       [0.32612993]]), 'test_labels': array([[ 0.04178654],\n",
       "       [-0.00773332],\n",
       "       [-0.0461806 ],\n",
       "       ...,\n",
       "       [ 0.07402563],\n",
       "       [ 0.14965572],\n",
       "       [ 0.05903546]])}, dtype=object)"
      ]
     },
     "execution_count": 5,
     "metadata": {},
     "output_type": "execute_result"
    }
   ],
   "source": [
    "old"
   ]
  },
  {
   "cell_type": "code",
   "execution_count": 6,
   "metadata": {},
   "outputs": [
    {
     "data": {
      "text/plain": [
       "array({'av_test_rmse': 0.04880215705440795, 'test_predictions': array([[-0.31012138],\n",
       "       [-0.30891342],\n",
       "       [-0.30204861],\n",
       "       ...,\n",
       "       [-0.50249351],\n",
       "       [-0.49743728],\n",
       "       [-0.50442274]]), 'av_train_rmse': 0.014737137934479389, 'train_predictions': array([[ 0.00828404],\n",
       "       [-0.29257831],\n",
       "       [ 0.33915595],\n",
       "       ...,\n",
       "       [ 0.43442091],\n",
       "       [-0.36229526],\n",
       "       [-0.30539709]]), 'test_labels': array([[-0.30527182],\n",
       "       [-0.30958384],\n",
       "       [-0.28690612],\n",
       "       ...,\n",
       "       [-0.49798232],\n",
       "       [-0.50167264],\n",
       "       [-0.49866475]])}, dtype=object)"
      ]
     },
     "execution_count": 6,
     "metadata": {},
     "output_type": "execute_result"
    }
   ],
   "source": [
    "new"
   ]
  },
  {
   "cell_type": "code",
   "execution_count": null,
   "metadata": {},
   "outputs": [],
   "source": []
  }
 ],
 "metadata": {
  "kernelspec": {
   "display_name": "graphs",
   "language": "python",
   "name": "python3"
  },
  "language_info": {
   "codemirror_mode": {
    "name": "ipython",
    "version": 3
   },
   "file_extension": ".py",
   "mimetype": "text/x-python",
   "name": "python",
   "nbconvert_exporter": "python",
   "pygments_lexer": "ipython3",
   "version": "3.10.9"
  },
  "orig_nbformat": 4
 },
 "nbformat": 4,
 "nbformat_minor": 2
}
